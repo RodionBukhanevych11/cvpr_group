{
 "cells": [
  {
   "cell_type": "code",
   "execution_count": 13,
   "metadata": {},
   "outputs": [],
   "source": [
    "import cv2 as cv\n",
    "import numpy\n",
    "import os \n",
    "import glob"
   ]
  },
  {
   "cell_type": "markdown",
   "metadata": {},
   "source": [
    "*Generating sift descriptor*"
   ]
  },
  {
   "cell_type": "code",
   "execution_count": 14,
   "metadata": {},
   "outputs": [
    {
     "data": {
      "text/plain": [
       "True"
      ]
     },
     "execution_count": 14,
     "metadata": {},
     "output_type": "execute_result"
    }
   ],
   "source": [
    "img = cv.imread('../images/AS_dataset/tmp.jpg')\n",
    "gray = cv.cvtColor(img,cv.COLOR_BGR2GRAY)\n",
    "sift = cv.SIFT_create()\n",
    "kp = sift.detect(gray,None)\n",
    "img = cv.drawKeypoints(gray,kp,img)\n",
    "cv.imwrite('sift_keypoints.jpg',img)"
   ]
  },
  {
   "cell_type": "markdown",
   "metadata": {},
   "source": [
    "*Reading images*"
   ]
  },
  {
   "cell_type": "code",
   "execution_count": 16,
   "metadata": {},
   "outputs": [
    {
     "name": "stdout",
     "output_type": "stream",
     "text": [
      "[[0.7505801, [1488, 2074]]]\n"
     ]
    }
   ],
   "source": [
    "img_dir = \"../images/AS_dataset\"\n",
    "data_path = os.path.join(img_dir,'*g') \n",
    "files = glob.glob(data_path) \n",
    "metrics = []\n",
    "for f1 in files: \n",
    "    \n",
    "    e1 = cv.getTickCount()\n",
    "    gray = cv.imread(f1, cv2.IMREAD_GRAYSCALE) \n",
    "#     gray = cv.cvtColor(img,cv.COLOR_BGR2GRAY)\n",
    "    kp = sift.detect(gray, None)\n",
    "    e2 = cv.getTickCount()\n",
    "    \n",
    "    sift_test = cv.SIFT_create()\n",
    "    kp_test = sift_test.detect(gray,None)\n",
    "    \n",
    "    # calculate metrics\n",
    "    time = (e2 - e1)/ cv.getTickFrequency()\n",
    "    img_h, img_w = gray.shape\n",
    "    \n",
    "    metrics.append([time, [img_h, img_w]])\n",
    "print(metrics)"
   ]
  },
  {
   "cell_type": "markdown",
   "metadata": {},
   "source": [
    "**Metrics**:\n",
    "- відносна кількість правильно суміщених ознак\n",
    "\n",
    "- похибка локалізації (відстань між реальним розміщенням предмета в кадрі та розпізнаним)\n",
    "\n",
    "- відносний час обробки фото в залежності від розміру зображення"
   ]
  },
  {
   "cell_type": "code",
   "execution_count": null,
   "metadata": {},
   "outputs": [],
   "source": []
  }
 ],
 "metadata": {
  "kernelspec": {
   "display_name": "Python 3",
   "language": "python",
   "name": "python3"
  },
  "language_info": {
   "codemirror_mode": {
    "name": "ipython",
    "version": 3
   },
   "file_extension": ".py",
   "mimetype": "text/x-python",
   "name": "python",
   "nbconvert_exporter": "python",
   "pygments_lexer": "ipython3",
   "version": "3.8.1"
  }
 },
 "nbformat": 4,
 "nbformat_minor": 4
}
